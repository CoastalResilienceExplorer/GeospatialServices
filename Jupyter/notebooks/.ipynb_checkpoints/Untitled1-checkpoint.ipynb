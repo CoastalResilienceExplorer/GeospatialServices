{
 "cells": [
  {
   "cell_type": "code",
   "execution_count": 1,
   "id": "e619b4fa-2bed-47bc-83b8-194f5c9e797f",
   "metadata": {},
   "outputs": [
    {
     "name": "stdout",
     "output_type": "stream",
     "text": [
      "/app/data\n"
     ]
    }
   ],
   "source": [
    "import os\n",
    "\n",
    "mnt = os.getenv(\"MOUNT_PATH\")\n",
    "print(mnt)"
   ]
  }
 ],
 "metadata": {
  "kernelspec": {
   "display_name": "Python 3 (ipykernel)",
   "language": "python",
   "name": "python3"
  },
  "language_info": {
   "codemirror_mode": {
    "name": "ipython",
    "version": 3
   },
   "file_extension": ".py",
   "mimetype": "text/x-python",
   "name": "python",
   "nbconvert_exporter": "python",
   "pygments_lexer": "ipython3",
   "version": "3.12.3"
  }
 },
 "nbformat": 4,
 "nbformat_minor": 5
}
